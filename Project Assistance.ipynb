{
 "cells": [
  {
   "cell_type": "markdown",
   "id": "a61ab1be",
   "metadata": {},
   "source": [
    "# Project Assistance: Analyzing Customer Churn"
   ]
  },
  {
   "cell_type": "markdown",
   "id": "621cb472",
   "metadata": {},
   "source": [
    "# 1) Importing Data"
   ]
  },
  {
   "cell_type": "code",
   "execution_count": null,
   "id": "29e4dc0c",
   "metadata": {},
   "outputs": [],
   "source": [
    "import sqlalchemy as sa\n",
    "import pandas as pd\n",
    "engine = sa.create_engine('sqlite:///telco_churn.db')\n",
    "connection = engine.connect()\n",
    "sql_query = \"SELECT * FROM churn_data JOIN cities ON cities.area_code = churn_data.local_area_code\"\n",
    "df = pd.read_sql(sql_query, connection)\n",
    "df.head()\n",
    "df.dtypes\n",
    "connection.close()\n"
   ]
  },
  {
   "cell_type": "markdown",
   "id": "272ee0da",
   "metadata": {},
   "source": [
    "# 2) Check and clean the data"
   ]
  },
  {
   "cell_type": "code",
   "execution_count": null,
   "id": "e60e818b",
   "metadata": {},
   "outputs": [],
   "source": [
    "# Drop double columns\n",
    "df = df.drop('local_area_code',axis=1)"
   ]
  },
  {
   "cell_type": "code",
   "execution_count": null,
   "id": "0d9c1e95",
   "metadata": {},
   "outputs": [],
   "source": [
    "# Check the missing values\n",
    "import numpy as np\n",
    "# df.isna().sum()\n",
    "\n",
    "df = df.dropna(axis=0, how='any')\n",
    "df.isna().sum()\n",
    "\n",
    "# df.dropna?"
   ]
  },
  {
   "cell_type": "code",
   "execution_count": null,
   "id": "3d28c471",
   "metadata": {},
   "outputs": [],
   "source": [
    "\n",
    "# Changing the datatypes \n",
    "df.dtypes\n",
    "has_to_be_int_list = [0,3,5,8,11,13]\n",
    "has_to_be_categorical_list = [1,2,14,15,16,17]\n",
    "for i in has_to_be_int_list:\n",
    "    df.iloc[:,i] = df.iloc[:,i].astype('int')\n",
    "for i in has_to_be_categorical_list:\n",
    "    df.iloc[:,i] = df.iloc[:,i].astype('category')\n",
    "df.dtypes\n",
    "# Check for wrong values\n",
    "\n",
    "df.describe()"
   ]
  },
  {
   "cell_type": "code",
   "execution_count": null,
   "id": "dd4e63ff",
   "metadata": {},
   "outputs": [],
   "source": [
    "mask = (df.loc[:,'customer_service_calls'] >= 0)\n",
    "# df = df.drop(df.index[mask])\n",
    "df = df.loc[mask,:]\n",
    "df.describe()"
   ]
  },
  {
   "cell_type": "markdown",
   "id": "52c036df",
   "metadata": {},
   "source": [
    "# 3) What are the names of the four cities with the highest rates of customer churn?"
   ]
  },
  {
   "cell_type": "code",
   "execution_count": null,
   "id": "3f351114",
   "metadata": {},
   "outputs": [],
   "source": [
    "# What is the overall churn ratio in the dataset?\n",
    "df_churn_rate = pd.crosstab(index=df.loc[:,'churn'],columns='count',normalize='columns')\n",
    "\n",
    "pd.options.display.float_format = '{:,.2f}'.format\n",
    "df_churn_rate"
   ]
  },
  {
   "cell_type": "code",
   "execution_count": null,
   "id": "00fef46f",
   "metadata": {},
   "outputs": [],
   "source": [
    "# What is the churn ratio based on the city?\n",
    "churn_mask = (df.loc[:,'churn'] == 1)\n",
    "\n",
    "df_city = pd.crosstab(index=df.loc[:,'city'], columns=df.loc[churn_mask,'churn'])\n",
    "df_city.columns=['count']\n",
    "df_city = df_city.sort_values(by='count', ascending=False)\n",
    "print(df_city)\n",
    "\n",
    "# pd.crosstab(index=df.loc[:,'city'], columns=df.loc[:,'churn'],normalize='all')\n",
    "\n",
    "biggest_cities_left = df_city.iloc[:4,0]\n",
    "list_cities = biggest_cities_left.index.tolist()\n",
    "list_cities\n"
   ]
  },
  {
   "cell_type": "code",
   "execution_count": null,
   "id": "13fc5d96",
   "metadata": {},
   "outputs": [],
   "source": [
    "# Is the number of datapoints for every city reasonable?\n",
    "Jacksonville_mask = (df.loc[:,'city']=='Jacksonville') \n",
    "Orlando1_mask = (df.loc[:,'city']=='Orlando1') \n",
    "Cape_Coral_mask = (df.loc[:,'city']=='Cape Coral') \n",
    "Orlando2_mask = (df.loc[:,'city']=='Orlando2')\n",
    "\n",
    "\n",
    "jacksonville_count = df.loc[Jacksonville_mask,:].shape\n",
    "print(jacksonville_count)\n",
    "\n",
    "orlando1_count = df.loc[Orlando1_mask,:].shape\n",
    "print(orlando1_count)\n",
    "\n",
    "cape_coral_count = df.loc[Cape_Coral_mask,:].shape\n",
    "print(cape_coral_count)\n",
    "\n",
    "orlando2_count = df.loc[Orlando2_mask,:].shape\n",
    "print(orlando2_count)\n",
    "\n",
    "df.shape"
   ]
  },
  {
   "cell_type": "markdown",
   "id": "aad18075",
   "metadata": {},
   "source": [
    "# 4a) Which categorical data series should be used to identify customers who will possibly leave soon? "
   ]
  },
  {
   "cell_type": "markdown",
   "id": "31984bcf",
   "metadata": {},
   "source": [
    "# Which customers should be contacted based on this data series?"
   ]
  },
  {
   "cell_type": "code",
   "execution_count": null,
   "id": "b65c2331",
   "metadata": {},
   "outputs": [],
   "source": [
    "# Check 'international_plan'\n",
    "df_international_plan = pd.crosstab(columns = df.loc[:,'international_plan'],\n",
    "                                     index= df.loc[:,'churn'],normalize='columns')\n",
    "df_international_plan"
   ]
  },
  {
   "cell_type": "code",
   "execution_count": null,
   "id": "be1be33d",
   "metadata": {},
   "outputs": [],
   "source": [
    "# Check 'voice_mail_plan'\n",
    "pd.crosstab(index = df.loc[:,'voice_mail_plan'], columns = df.loc[:,'churn'])\n"
   ]
  },
  {
   "cell_type": "code",
   "execution_count": null,
   "id": "c951267e",
   "metadata": {},
   "outputs": [],
   "source": [
    "pd.crosstab(index = df.loc[:,'voice_mail_plan'], columns = df.loc[:,'churn'],normalize='index')\n"
   ]
  },
  {
   "cell_type": "code",
   "execution_count": null,
   "id": "2abca34e",
   "metadata": {},
   "outputs": [],
   "source": [
    "# Select customers based on categorical data\n",
    "customers_that_might_leave_mask = (df.loc[:,'international_plan'] == 'yes') & (df.loc[:,'churn'] == 0)\n",
    "df_customers_prob_leave = df.loc[customers_that_might_leave_mask,:]\n",
    "df_customers_prob_leave\n"
   ]
  },
  {
   "cell_type": "markdown",
   "id": "083050fd",
   "metadata": {},
   "source": [
    "# 4b) Which integer data series would you also use for this and how would you set the threshold?"
   ]
  },
  {
   "cell_type": "markdown",
   "id": "c7dd750e",
   "metadata": {},
   "source": [
    "# Which customers should be contacted based on this data series?"
   ]
  },
  {
   "cell_type": "code",
   "execution_count": null,
   "id": "1e338d53",
   "metadata": {},
   "outputs": [],
   "source": [
    "# How many unique values are in each column?\n",
    "cols_to_check = ['account_length', 'number_vmail_messages', 'total_day_calls', 'total_eve_calls',\n",
    "                 'total_night_calls', 'customer_service_calls']\n",
    "\n",
    "for i in cols_to_check:\n",
    "    print(len(df.loc[:,i].unique().tolist()))"
   ]
  },
  {
   "cell_type": "code",
   "execution_count": null,
   "id": "1cd8c0e4",
   "metadata": {},
   "outputs": [],
   "source": [
    "# Check column that can be treated as categorical\n",
    "#  'customer_service_calls'\n",
    "\n",
    "df_service_calls = pd.crosstab(index=df.loc[:,'customer_service_calls'],\n",
    "                               columns=df.loc[:,'churn'], normalize='index')\n",
    "# pd.crosstab(index=df.loc[:,'customer_service_calls'], columns='count',normalize='columns')\n",
    "\n",
    "%matplotlib inline\n",
    "import matplotlib.pyplot as plt\n",
    "\n",
    "fig,ax = plt.subplots(figsize=[6,6])\n",
    "df_service_calls.plot(kind='bar',legend=False, ax=ax)\n",
    "ax.xaxis.set_tick_params(labelrotation=0)\n",
    "\n",
    "#customers that have >3 calls to the service are likely to leave because they\n",
    "#                                                 did not get satisfied after calling many times\n",
    "\n",
    "# df_service_calls.describe()\n",
    "# df_service_calls"
   ]
  },
  {
   "cell_type": "code",
   "execution_count": null,
   "id": "ec13ad2b",
   "metadata": {},
   "outputs": [],
   "source": [
    "# Check other integer columns with boxplots or histograms\n",
    "#'account_length', 'number_vmail_messages', 'total_day_calls', 'total_eve_calls', 'total_night_calls'\n",
    "list_to_create_graphs = ['account_length', 'number_vmail_messages',\n",
    "                         'total_day_calls', 'total_eve_calls', 'total_night_calls']\n",
    "def to_create(df,col_of_info):\n",
    "    fig, ax = plt.subplots(nrows=1, ncols=2, figsize=[19,8])\n",
    "    df.boxplot(column=col_of_info, by='churn', ax=ax[0])\n",
    "    df.groupby('churn')[col_of_info].plot(kind='hist', bins = 40, legend = True, ax=ax[1])\n",
    "    \n",
    "#     return fig"
   ]
  },
  {
   "cell_type": "code",
   "execution_count": null,
   "id": "6320dbae",
   "metadata": {},
   "outputs": [],
   "source": [
    "for i in list_to_create_graphs:\n",
    "    to_create(df,i)"
   ]
  },
  {
   "cell_type": "code",
   "execution_count": null,
   "id": "3d16ab4e",
   "metadata": {},
   "outputs": [],
   "source": [
    "# Select customers based on integer column\n",
    "\n",
    "#so its better just to use the boolean masking from the previous cell without counting whiskers\n",
    "mask = (df.loc[:,'churn'] == 0) & (df.loc[:,'customer_service_calls'] > 3)\n",
    "df_temp_answer_4b = df.loc[mask,:]\n",
    "df_temp_answer_4b"
   ]
  },
  {
   "cell_type": "markdown",
   "id": "96ab7854",
   "metadata": {},
   "source": [
    "# 4c) Which floating point data series could you use to help with this selection?"
   ]
  },
  {
   "cell_type": "markdown",
   "id": "56d1511f",
   "metadata": {},
   "source": [
    "# Determine the threshold for this using logistic regression. "
   ]
  },
  {
   "cell_type": "markdown",
   "id": "27e5486c",
   "metadata": {},
   "source": [
    "# Which customers should be contacted based on this data series?"
   ]
  },
  {
   "cell_type": "code",
   "execution_count": null,
   "id": "8373a70c",
   "metadata": {},
   "outputs": [],
   "source": [
    "# Check ..._charge and ..._minutes columns;  Is there any kind of linear depency?\n",
    "\n",
    "# Sollution:\n",
    "# Normally, a certain amount is charged per minute. Can we leave a part out of the evaluation?\n",
    "# To do this, we'll make a plot with one column on the x-axis and the other on the y-axis\n",
    "fig, axs = plt.subplots(nrows=1, ncols=3, figsize=[18, 6])  # define a plot with 3 Axes (day, eve, night)\n",
    "df.plot(kind='scatter', \n",
    "        x='total_day_minutes', \n",
    "        y='total_day_charge', \n",
    "        ax=axs[0],\n",
    "        xlim=(0,500),\n",
    "        ylim=(0,60));  # check day columns\n",
    "df.plot(kind='scatter', \n",
    "        x='total_eve_minutes', \n",
    "        y='total_eve_charge', \n",
    "        ax=axs[1],\n",
    "        xlim=(0,500),\n",
    "        ylim=(0,60));  # check evening columns\n",
    "df.plot(kind='scatter', \n",
    "        x='total_night_minutes', \n",
    "        y='total_night_charge', \n",
    "        ax=axs[2],\n",
    "        xlim=(0,500),\n",
    "        ylim=(0,60));  # check night columns\n",
    "# So we see that there is a linear relationship here. So we only need one of the two columns at a time.\n",
    "# In the plot total_day_charge and total_day_minutes there are a few outliers, i.e. data points that cannot be explained. Let's take a closer look at these."
   ]
  },
  {
   "cell_type": "code",
   "execution_count": null,
   "id": "722838dc",
   "metadata": {},
   "outputs": [],
   "source": [
    "# Identifying outliers and deal with them\n",
    "mask = (df.loc[:,'total_day_minutes'] > 380)\n",
    "df = df.drop(df.index[mask],axis=0)\n",
    "df"
   ]
  },
  {
   "cell_type": "code",
   "execution_count": null,
   "id": "10ea0ccd",
   "metadata": {},
   "outputs": [],
   "source": [
    "# Pair plot\n",
    "df_temp = df.loc[:, ['total_day_minutes', 'total_day_charge', 'total_eve_minutes', 'total_eve_charge', 'total_night_minutes', 'total_night_charge']]\n",
    "import seaborn as sns\n",
    "sns.pairplot(df_temp);"
   ]
  },
  {
   "cell_type": "code",
   "execution_count": null,
   "id": "b46b0ec1",
   "metadata": {},
   "outputs": [],
   "source": [
    "# Correlation matrix\n",
    "\n",
    "\n",
    "fig, ax = plt.subplots(figsize=(10,10))         # Sample figsize in inches\n",
    "# sns.heatmap(df_temp.corr(), annot=True, ax=ax);\n",
    "sns.heatmap(df_temp.corr(), annot=True, ax=ax);"
   ]
  },
  {
   "cell_type": "code",
   "execution_count": null,
   "id": "1f5da7c0",
   "metadata": {},
   "outputs": [],
   "source": [
    "# Logistic regression\n",
    "import statsmodels.formula.api as smf\n",
    "df.loc[:,'churn'] = pd.to_numeric(df.loc[:,'churn'])\n",
    "# print(df.dtypes)\n",
    "# Define a logit model and fit it\n",
    "model = smf.logit(formula='churn ~ total_day_minutes', \n",
    "                  data=df)\n",
    "result = model.fit()\n",
    "\n",
    "# Check model summary\n",
    "result.summary()"
   ]
  },
  {
   "cell_type": "code",
   "execution_count": null,
   "id": "13af051f",
   "metadata": {},
   "outputs": [],
   "source": [
    "# Use the trained results to predict a given range and plot the S-curve\n",
    "# after experimenting with logistic regression \n",
    "# I came with a conclusion that total_day_mins have the most Pseudo R-sq. (0.05)\n",
    "# as total_day_mins are float, we have to convert to int\n",
    "df.loc[:,'total_day_minutes'] = df.loc[:,'total_day_minutes'].astype(int)\n",
    "X = pd.Series(range(800))\n",
    "X_df = pd.DataFrame(X)\n",
    "X_df.columns = ['total_day_minutes']\n",
    "p_y = result.predict(X_df)\n",
    "p_y.plot();"
   ]
  },
  {
   "cell_type": "code",
   "execution_count": null,
   "id": "28538af7",
   "metadata": {},
   "outputs": [],
   "source": [
    "# Calculate treshold value and plot it as a vertical line in logistic regression plot\n",
    "import matplotlib.pyplot as plt\n",
    "%matplotlib inline\n",
    "\n",
    "fig, ax = plt.subplots()\n",
    "ax.plot(p_y)\n",
    "ax.vlines(x=p_y[p_y>=0.5].index[0], ymin=0, ymax=1, colors='black');\n",
    "# median of churn 1 total_day_minutes"
   ]
  },
  {
   "cell_type": "code",
   "execution_count": null,
   "id": "863a6465",
   "metadata": {},
   "outputs": [],
   "source": [
    "# Identify customer(s) to be contacted based on critical value from logistic regression\n",
    "# p_y[p_y >= 0.5].index[0]\n",
    "fig, ax = plt.subplots(figsize=[8, 8])\n",
    "df.groupby('churn')['total_day_minutes'].plot(kind='hist', bins=50, ax=ax)\n",
    "ax.set(xlim=[0, 800])\n",
    "ax.vlines(x=349, ymin=0, ymax=160);\n"
   ]
  },
  {
   "cell_type": "code",
   "execution_count": null,
   "id": "f2c38f6f",
   "metadata": {},
   "outputs": [],
   "source": [
    "mask = df.loc[:, 'total_day_minutes']>=p_y[p_y>=0.5].index[0]\n",
    "\n",
    "df_that_might_leave = df.loc[mask,:]\n",
    "final_mask = df.loc[:,'churn'] == 0\n",
    "df_that_might_leave = df_that_might_leave.loc[final_mask,:]\n",
    "df_that_might_leave"
   ]
  },
  {
   "cell_type": "markdown",
   "id": "8d3da430",
   "metadata": {},
   "source": [
    "# 5) Visualizing the cities and other selected data series."
   ]
  },
  {
   "cell_type": "code",
   "execution_count": null,
   "id": "0b59df84",
   "metadata": {},
   "outputs": [],
   "source": [
    "# Column chart of urban areas\n",
    "plt.style.use('fivethirtyeight')\n",
    "\n",
    "colors = ['#9966CC','#483D8B']\n",
    "\n",
    "df_city = pd.crosstab(index=df.loc[:,'city'], columns=df.loc[:,'churn'], normalize='index')\n",
    "\n",
    "df_city = df_city.sort_values(by=1, ascending=False)\n",
    "\n",
    "fig,ax = plt.subplots(figsize=[17,8])\n",
    "df_city.plot(kind='bar',legend=True, ax=ax, color = colors)\n",
    "ax.xaxis.set_tick_params(labelrotation=0)\n",
    "ax.legend(['Customers that currently use the company services', 'Customers that left the company'],\n",
    "          bbox_to_anchor=(0.0, 1.01), loc='upper left',prop={'size': 11});\n",
    "ax.set(title='Cities with the highest rates of customer churn', xlabel='cities');"
   ]
  },
  {
   "cell_type": "code",
   "execution_count": null,
   "id": "741f40ca",
   "metadata": {},
   "outputs": [],
   "source": [
    "# Column chart of categorical data\n",
    "plt.style.use('fivethirtyeight')\n",
    "df_international_plan = pd.crosstab(columns = df.loc[:,'international_plan'],\n",
    "                                     index= df.loc[:,'churn'],normalize='columns')\n",
    "\n",
    "# print(df_international_plan)\n",
    "\n",
    "colors = ['#E0B0FF','#9370DB']\n",
    "\n",
    "explode_=[0.05,0.05]\n",
    "explode_1=[0.01,0.05]\n",
    "fig, ax = plt.subplots(nrows=1, ncols=2, figsize=(10,6))\n",
    "df_international_plan.plot(kind='pie',y='no',ax=ax[0], labels=['',''], explode=explode_, colors=colors)\n",
    "df_international_plan.plot(kind='pie',y='yes',ax=ax[1], labels=['',''], explode=explode_1, legend=False,colors=colors);\n",
    "fig.suptitle('Percentage of customers that use international plan', fontsize=17);\n",
    "ax[0].legend(['present customers','left customers'],\n",
    "             bbox_to_anchor=(0.0,1.15), loc='upper left', fontsize=13);\n",
    "ax[0].set_ylabel('no international plan customers', fontsize=17)\n",
    "ax[1].set_ylabel('international plan customers', fontsize=17);\n",
    "\n",
    "\n",
    "t1 = ax[0].text(1.03, -0.4, '11%')\n",
    "t2 = ax[0].text(-1.1, 0.7, '89%')\n",
    "\n",
    "t3 = ax[1].text(0.7, 0.9, '57%')\n",
    "t4 = ax[1].text(-1, -0.9, '43%')"
   ]
  },
  {
   "cell_type": "code",
   "execution_count": null,
   "id": "fb04e675",
   "metadata": {},
   "outputs": [],
   "source": [
    "plt.style.use('seaborn')\n",
    "colors = ['#9966CC','#D891EF']\n",
    "df_service_calls = pd.crosstab(index=df.loc[:,'customer_service_calls'],\n",
    "                              columns=df.loc[:,'churn'], normalize='index')\n",
    "fig, ax = plt.subplots(nrows=1, ncols=2, figsize=[10,6])\n",
    "df_service_calls.plot(kind='bar', legend=False, ax=ax[0],color = colors)\n",
    "ax[0].xaxis.set_tick_params(labelrotation=0)\n",
    "df_service_calls.iloc[4:].plot(kind='bar', legend=True, ax=ax[1],color = colors)\n",
    "ax[1].xaxis.set_tick_params(labelrotation=0)\n",
    "ax[0].set(xlabel='')\n",
    "ax[1].set(xlabel='')\n",
    "ax[1].legend(['current','left'])\n",
    "fig.suptitle('Frequency of customer service calls', fontsize=18);\n",
    "ax[0].set(title='overall appearance')\n",
    "ax[1].set(title='area should be adressed');"
   ]
  },
  {
   "cell_type": "code",
   "execution_count": null,
   "id": "470c2e84",
   "metadata": {},
   "outputs": [],
   "source": [
    "# Line plot for findings in logistic regression\n",
    "plt.style.use('fivethirtyeight')\n",
    "fig, ax = plt.subplots()\n",
    "ax.plot(p_y,color='#7851A9')\n",
    "ax.vlines(x=p_y[p_y>=0.5].index[0], ymin=0, ymax=1, colors='#56A0D3');\n",
    "\n",
    "# ann.remove\n",
    "ann = ax.annotate(s='The threshold \\n      value',\n",
    "            xytext=[0.1,0.71],xy=[0.44,0.7],xycoords='axes fraction',\n",
    "            fontsize=13,arrowprops=dict(facecolor='black',linewidth=0.05))\n",
    "ax.set(title='Logistic regression model');"
   ]
  },
  {
   "cell_type": "markdown",
   "id": "d54fe435",
   "metadata": {},
   "source": [
    "# 6) Formulating recommendations"
   ]
  },
  {
   "cell_type": "code",
   "execution_count": null,
   "id": "52cf5c2f",
   "metadata": {},
   "outputs": [],
   "source": [
    "## Insights and recommendations from the data set\n",
    "\n",
    "# At first the company should pay attention for the top 4\n",
    "# cities from which customers may leave \n",
    "# as they represent the biggest part of ones who may leave soon\n",
    "##\n",
    "# Furthermore, customers that use the international plan might leave as they are abroad and \n",
    "# it is uncertain if they are in travel and use the international package or moved fully.\n",
    "# So, it is relevant to focus on them\n",
    "##\n",
    "# In addition company should emphasize on such customers who has often called the service\n",
    "# as users might be not satisfied with the conditions and are also likely to leave sooner or \n",
    "#                                                                                  later\n",
    "##\n",
    "# The logistic regression in my case, unfortunately, did not give any hint, who the company \n",
    "# should call in their upcoming campaign\n",
    "##\n",
    "# In conclusion, the company should aim at:\n",
    "# - customers who live in cities that are under observation\n",
    "# - customers who use international plan\n",
    "# - customers who often contacted the company service"
   ]
  },
  {
   "cell_type": "code",
   "execution_count": null,
   "id": "eba518b2",
   "metadata": {},
   "outputs": [],
   "source": []
  },
  {
   "cell_type": "code",
   "execution_count": null,
   "id": "3c3c540f",
   "metadata": {},
   "outputs": [],
   "source": []
  },
  {
   "cell_type": "code",
   "execution_count": null,
   "id": "50b9a1c2",
   "metadata": {},
   "outputs": [],
   "source": []
  },
  {
   "cell_type": "code",
   "execution_count": null,
   "id": "a8fc3b49",
   "metadata": {},
   "outputs": [],
   "source": []
  },
  {
   "cell_type": "code",
   "execution_count": null,
   "id": "ec934942",
   "metadata": {},
   "outputs": [],
   "source": []
  },
  {
   "cell_type": "code",
   "execution_count": null,
   "id": "ae803a46",
   "metadata": {},
   "outputs": [],
   "source": []
  },
  {
   "cell_type": "code",
   "execution_count": null,
   "id": "69270282",
   "metadata": {},
   "outputs": [],
   "source": []
  },
  {
   "cell_type": "code",
   "execution_count": null,
   "id": "85664ea0",
   "metadata": {},
   "outputs": [],
   "source": []
  },
  {
   "cell_type": "code",
   "execution_count": null,
   "id": "30fd537c",
   "metadata": {},
   "outputs": [],
   "source": []
  },
  {
   "cell_type": "code",
   "execution_count": null,
   "id": "df4fa7b0",
   "metadata": {},
   "outputs": [],
   "source": []
  }
 ],
 "metadata": {
  "kernelspec": {
   "display_name": "Python 3 (ipykernel)",
   "language": "python",
   "name": "python3"
  },
  "language_info": {
   "codemirror_mode": {
    "name": "ipython",
    "version": 3
   },
   "file_extension": ".py",
   "mimetype": "text/x-python",
   "name": "python",
   "nbconvert_exporter": "python",
   "pygments_lexer": "ipython3",
   "version": "3.8.10"
  }
 },
 "nbformat": 4,
 "nbformat_minor": 5
}
